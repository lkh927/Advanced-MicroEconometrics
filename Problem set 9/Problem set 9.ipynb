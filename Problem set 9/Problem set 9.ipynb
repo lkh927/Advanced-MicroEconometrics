{
 "cells": [
  {
   "cell_type": "markdown",
   "metadata": {},
   "source": [
    "# Modeling Demand for Cars with Conditional Logit \n",
    "\n",
    "In this problem set, you will replicate part of the results in\n",
    "Brownstone and Train (1999). You will estimate the conditional logit\n",
    "model given the available data.\n",
    "The core of the exercise will be to fill out the file `clogit_ante.py`. \n"
   ]
  },
  {
   "cell_type": "code",
   "execution_count": 1,
   "metadata": {},
   "outputs": [],
   "source": [
    "import numpy as np\n",
    "from numpy import random\n",
    "from scipy.stats import norm\n",
    "from scipy.stats import genextreme\n",
    "import pandas as pd \n",
    "\n",
    "%load_ext autoreload\n",
    "%autoreload 2\n",
    "\n",
    "import clogit_ante as clogit\n",
    "import estimation_CL as est"
   ]
  },
  {
   "cell_type": "markdown",
   "metadata": {},
   "source": [
    "Data\n",
    "====\n",
    "\n",
    "The data consists of a survey of households regarding their preferences\n",
    "for car purchase. Each household was given 6 options, but the\n",
    "characteristics that the respondents were asked about was varied. The\n",
    "surveys were originally conducted in order to illicit consumer\n",
    "preferences for alternative-fuel vehicles. The data is *stated\n",
    "preferences*, in the sense that consumers did not actually buy but just\n",
    "stated what they would hypothetically choose, which is of course a\n",
    "drawback. This is very common in marketing when historic data is either\n",
    "not available or does not provide satisfactory variation. The advantage\n",
    "of the stated preference data is therefore that the choice set can be\n",
    "varied greatly (for example, the characteristics includes the\n",
    "availability of recharging stations, which is important for purchase of\n",
    "electric cars).\n",
    "\n",
    "The data you will use has $N=4654$ respondents with $J=6$ cars to choose\n",
    "from. For each household, we let $\\mathcal{J}_{i}$ denote the set of\n",
    "available cars.\n",
    "\n",
    "If you load the csv-file, `car_data.csv`, you will get a dataframe with \n",
    "$NJ = 27,924$ rows. The column `person_id` runs through $0,2,...,N-1$, and\n",
    "the column `j` is the index for the car, $\\{0,1,...,5\\}$. The variable \n",
    "`binary_choice` is a dummy, =1 for the car chosen by the respondent. \n",
    "A conveneint other variable, `y`, is the index for that car, repeated \n",
    "and identical for all $J$ rows for each person. The x-variables describe \n",
    "the characteristics of the 6 cars that the respondent was asked to choose \n",
    "from. \n",
    "\n",
    "We will also read in the dataset `car_labels.csv`, which contains the \n",
    "variable labels and descriptions for all the variables. \n",
    "The lists `x_vars` and `x_lab` will be used throughout as the list of \n",
    "explanatory variables we want to work with. \n",
    "\n",
    "In order to get the data into a 3-dimensional array, we will access \n",
    "the underlying numpy arrays and resize them. For example \n",
    "\n",
    "> `x = dat[x_vars].values.resize((N,J,K))`\n",
    "\n",
    "Note that this will only work because the data is sorted according to \n",
    "first `person_id` and then `j`. You can test this by verifying that \n",
    "`x[0,:,k]` prints the same as `dat.loc[dat.person_id == 0, x_vars[k]]`. "
   ]
  },
  {
   "cell_type": "code",
   "execution_count": 2,
   "metadata": {},
   "outputs": [
    {
     "data": {
      "text/html": [
       "<div>\n",
       "<style scoped>\n",
       "    .dataframe tbody tr th:only-of-type {\n",
       "        vertical-align: middle;\n",
       "    }\n",
       "\n",
       "    .dataframe tbody tr th {\n",
       "        vertical-align: top;\n",
       "    }\n",
       "\n",
       "    .dataframe thead th {\n",
       "        text-align: right;\n",
       "    }\n",
       "</style>\n",
       "<table border=\"1\" class=\"dataframe\">\n",
       "  <thead>\n",
       "    <tr style=\"text-align: right;\">\n",
       "      <th></th>\n",
       "      <th>label</th>\n",
       "      <th>description</th>\n",
       "    </tr>\n",
       "    <tr>\n",
       "      <th>variable</th>\n",
       "      <th></th>\n",
       "      <th></th>\n",
       "    </tr>\n",
       "  </thead>\n",
       "  <tbody>\n",
       "    <tr>\n",
       "      <th>person_id</th>\n",
       "      <td>Person ID</td>\n",
       "      <td>Person identifier</td>\n",
       "    </tr>\n",
       "    <tr>\n",
       "      <th>rownum</th>\n",
       "      <td>Row num</td>\n",
       "      <td>Row number in the dataset</td>\n",
       "    </tr>\n",
       "    <tr>\n",
       "      <th>binary_choice</th>\n",
       "      <td>Binary choice</td>\n",
       "      <td>Dummy, =1 if this row is the car that was chosen</td>\n",
       "    </tr>\n",
       "    <tr>\n",
       "      <th>price_to_inc</th>\n",
       "      <td>Price/ln(income)</td>\n",
       "      <td>Purchase price in thousands of dollars, divide...</td>\n",
       "    </tr>\n",
       "    <tr>\n",
       "      <th>range</th>\n",
       "      <td>Range</td>\n",
       "      <td>Hundreds of miles that the vehicle can travel ...</td>\n",
       "    </tr>\n",
       "    <tr>\n",
       "      <th>acceleration</th>\n",
       "      <td>Acceleration</td>\n",
       "      <td>Seconds required to reach 30 mph from stop, in...</td>\n",
       "    </tr>\n",
       "    <tr>\n",
       "      <th>top_speed</th>\n",
       "      <td>Top speed</td>\n",
       "      <td>Highest speed that the vehicle can attain, in ...</td>\n",
       "    </tr>\n",
       "    <tr>\n",
       "      <th>pollution</th>\n",
       "      <td>Pollution</td>\n",
       "      <td>Tailpipe emissions as fraction of comparable n...</td>\n",
       "    </tr>\n",
       "    <tr>\n",
       "      <th>size</th>\n",
       "      <td>Size</td>\n",
       "      <td>0\"mini, 0.1\"subcompact, 0.2\"compact, 0.3\"mid-s...</td>\n",
       "    </tr>\n",
       "    <tr>\n",
       "      <th>big_enough</th>\n",
       "      <td>Big enough</td>\n",
       "      <td>1 if household size is over 2 and vehicle size...</td>\n",
       "    </tr>\n",
       "    <tr>\n",
       "      <th>luggage_space</th>\n",
       "      <td>Luggage space</td>\n",
       "      <td>Luggage space as fraction of comparable new ga...</td>\n",
       "    </tr>\n",
       "    <tr>\n",
       "      <th>operating_cost</th>\n",
       "      <td>Operating cost</td>\n",
       "      <td>Cost per mile of travel, in tens of cents per ...</td>\n",
       "    </tr>\n",
       "    <tr>\n",
       "      <th>station_availability</th>\n",
       "      <td>Station availability</td>\n",
       "      <td>Fraction of stations that have capability to r...</td>\n",
       "    </tr>\n",
       "    <tr>\n",
       "      <th>suv</th>\n",
       "      <td>Sports utility vehicle</td>\n",
       "      <td>1 for sports utility vehicle, zero otherwise</td>\n",
       "    </tr>\n",
       "    <tr>\n",
       "      <th>sports_car</th>\n",
       "      <td>Sports car</td>\n",
       "      <td>1 for sports car, zero otherwise</td>\n",
       "    </tr>\n",
       "    <tr>\n",
       "      <th>station_wagon</th>\n",
       "      <td>Station wagon</td>\n",
       "      <td>1 for station wagon, zero otherwise</td>\n",
       "    </tr>\n",
       "    <tr>\n",
       "      <th>truck</th>\n",
       "      <td>Truck</td>\n",
       "      <td>1 for truck, zero otherwise</td>\n",
       "    </tr>\n",
       "    <tr>\n",
       "      <th>van</th>\n",
       "      <td>Van</td>\n",
       "      <td>1 for van, zero otherwise</td>\n",
       "    </tr>\n",
       "    <tr>\n",
       "      <th>ev</th>\n",
       "      <td>Constant for EV</td>\n",
       "      <td>1 for electric vehicle, zero otherwise</td>\n",
       "    </tr>\n",
       "    <tr>\n",
       "      <th>commute_x_ev</th>\n",
       "      <td>Commute*EV</td>\n",
       "      <td>1 if respondent commutes less than five miles ...</td>\n",
       "    </tr>\n",
       "    <tr>\n",
       "      <th>college_x_ev</th>\n",
       "      <td>College*EV</td>\n",
       "      <td>1 if respondent had some college education and...</td>\n",
       "    </tr>\n",
       "    <tr>\n",
       "      <th>cng</th>\n",
       "      <td>Constant for CNG</td>\n",
       "      <td>1 for compressed natural gas vehicle, zero oth...</td>\n",
       "    </tr>\n",
       "    <tr>\n",
       "      <th>methanol</th>\n",
       "      <td>Constant for methanol</td>\n",
       "      <td>1 for methanol vehicle, zero otherwise</td>\n",
       "    </tr>\n",
       "    <tr>\n",
       "      <th>college_x_methanol</th>\n",
       "      <td>College*methanol</td>\n",
       "      <td>1 if respondent had some college education and...</td>\n",
       "    </tr>\n",
       "    <tr>\n",
       "      <th>not_ev</th>\n",
       "      <td>Non-EV</td>\n",
       "      <td>Dummy, =1 if car is not EV</td>\n",
       "    </tr>\n",
       "    <tr>\n",
       "      <th>not_cng</th>\n",
       "      <td>Non-CNG</td>\n",
       "      <td>Dummy, =1 if car is not CNG</td>\n",
       "    </tr>\n",
       "    <tr>\n",
       "      <th>j</th>\n",
       "      <td>Car number</td>\n",
       "      <td>Index for the car number (0,1,...,5)</td>\n",
       "    </tr>\n",
       "    <tr>\n",
       "      <th>y</th>\n",
       "      <td>Chosen car</td>\n",
       "      <td>Index for the chosen car (0,1,...,5)</td>\n",
       "    </tr>\n",
       "  </tbody>\n",
       "</table>\n",
       "</div>"
      ],
      "text/plain": [
       "                                       label  \\\n",
       "variable                                       \n",
       "person_id                          Person ID   \n",
       "rownum                               Row num   \n",
       "binary_choice                  Binary choice   \n",
       "price_to_inc                Price/ln(income)   \n",
       "range                                  Range   \n",
       "acceleration                    Acceleration   \n",
       "top_speed                          Top speed   \n",
       "pollution                          Pollution   \n",
       "size                                    Size   \n",
       "big_enough                        Big enough   \n",
       "luggage_space                  Luggage space   \n",
       "operating_cost                Operating cost   \n",
       "station_availability    Station availability   \n",
       "suv                   Sports utility vehicle   \n",
       "sports_car                        Sports car   \n",
       "station_wagon                  Station wagon   \n",
       "truck                                  Truck   \n",
       "van                                      Van   \n",
       "ev                           Constant for EV   \n",
       "commute_x_ev                      Commute*EV   \n",
       "college_x_ev                      College*EV   \n",
       "cng                         Constant for CNG   \n",
       "methanol               Constant for methanol   \n",
       "college_x_methanol          College*methanol   \n",
       "not_ev                                Non-EV   \n",
       "not_cng                              Non-CNG   \n",
       "j                                 Car number   \n",
       "y                                 Chosen car   \n",
       "\n",
       "                                                            description  \n",
       "variable                                                                 \n",
       "person_id                                             Person identifier  \n",
       "rownum                                        Row number in the dataset  \n",
       "binary_choice          Dummy, =1 if this row is the car that was chosen  \n",
       "price_to_inc          Purchase price in thousands of dollars, divide...  \n",
       "range                 Hundreds of miles that the vehicle can travel ...  \n",
       "acceleration          Seconds required to reach 30 mph from stop, in...  \n",
       "top_speed             Highest speed that the vehicle can attain, in ...  \n",
       "pollution             Tailpipe emissions as fraction of comparable n...  \n",
       "size                  0\"mini, 0.1\"subcompact, 0.2\"compact, 0.3\"mid-s...  \n",
       "big_enough            1 if household size is over 2 and vehicle size...  \n",
       "luggage_space         Luggage space as fraction of comparable new ga...  \n",
       "operating_cost        Cost per mile of travel, in tens of cents per ...  \n",
       "station_availability  Fraction of stations that have capability to r...  \n",
       "suv                        1 for sports utility vehicle, zero otherwise  \n",
       "sports_car                             1 for sports car, zero otherwise  \n",
       "station_wagon                       1 for station wagon, zero otherwise  \n",
       "truck                                       1 for truck, zero otherwise  \n",
       "van                                           1 for van, zero otherwise  \n",
       "ev                               1 for electric vehicle, zero otherwise  \n",
       "commute_x_ev          1 if respondent commutes less than five miles ...  \n",
       "college_x_ev          1 if respondent had some college education and...  \n",
       "cng                   1 for compressed natural gas vehicle, zero oth...  \n",
       "methanol                         1 for methanol vehicle, zero otherwise  \n",
       "college_x_methanol    1 if respondent had some college education and...  \n",
       "not_ev                                       Dummy, =1 if car is not EV  \n",
       "not_cng                                     Dummy, =1 if car is not CNG  \n",
       "j                                  Index for the car number (0,1,...,5)  \n",
       "y                                  Index for the chosen car (0,1,...,5)  "
      ]
     },
     "execution_count": 2,
     "metadata": {},
     "output_type": "execute_result"
    }
   ],
   "source": [
    "lab = pd.read_csv('car_labels.csv', index_col='variable')\n",
    "lab"
   ]
  },
  {
   "cell_type": "code",
   "execution_count": 3,
   "metadata": {},
   "outputs": [],
   "source": [
    "# variables to use as explanatory variables\n",
    "x_lab  = list(lab.iloc[3:-4].label.values) # labels \n",
    "x_vars = list(lab.iloc[3:-4].index.values) # variable names "
   ]
  },
  {
   "cell_type": "code",
   "execution_count": 4,
   "metadata": {},
   "outputs": [],
   "source": [
    "dat = pd.read_csv('car_data.csv')\n",
    "N = dat.person_id.nunique()\n",
    "J = dat.j.nunique()\n",
    "K = len(x_vars)"
   ]
  },
  {
   "cell_type": "markdown",
   "metadata": {},
   "source": [
    "## Scaling variables\n",
    "\n",
    "Logit is most stable numerically if we ensure that variables are scaled near to $\\pm 1$. "
   ]
  },
  {
   "cell_type": "code",
   "execution_count": 5,
   "metadata": {},
   "outputs": [],
   "source": [
    "dat['range'] = dat['range'] / 100\n",
    "dat['top_speed'] = dat['top_speed'] / 100\n",
    "\n",
    "# scaling by 10 might be overkill \n",
    "dat['size'] = dat['size'] / 10\n",
    "dat['acceleration'] = dat['acceleration'] / 10\n",
    "dat['operating_cost'] = dat['operating_cost'] / 10"
   ]
  },
  {
   "cell_type": "code",
   "execution_count": 6,
   "metadata": {},
   "outputs": [],
   "source": [
    "y = dat['y'].values.reshape((N,J))\n",
    "y = y[:, 0] # all J elements are identical along axis=1\n",
    "x = dat[x_vars].values.reshape((N,J,K))"
   ]
  },
  {
   "cell_type": "markdown",
   "metadata": {},
   "source": [
    "# Question 1: 3-dimensional arrays in Numpy\n",
    "\n",
    "The explanatory variables are $x_{ijk}$, where $i$ denotes individuals,\n",
    "$j$ cars, and $k$ car attributes. We will be working with these as 3d arrays, so let's do some light warmup. \n",
    "\n",
    "## 1.a: Light warmup \n",
    "\n",
    "Which of the following commands shows all the price-to-log-income\n",
    "    values for the cars in the choiceset of individual 1 (and what does\n",
    "    the other commands give you?).\n",
    "\n",
    "    a:   x[:,0,0]\n",
    "\n",
    "    b:   x[0,:,0]\n",
    "\n",
    "    c:   x[0,0,:]"
   ]
  },
  {
   "cell_type": "code",
   "execution_count": 7,
   "metadata": {},
   "outputs": [],
   "source": [
    "c: x[0,0,:]"
   ]
  },
  {
   "cell_type": "markdown",
   "metadata": {},
   "source": [
    "a gives all the individuals who have the first car choice and the first price-to-log-income value\n",
    "b gives all the cars in the choiceset of inividual 1 with the first price-to-log-income"
   ]
  },
  {
   "cell_type": "markdown",
   "metadata": {},
   "source": [
    "## 1.b: More algebra\n",
    "\n",
    "Create a 3-dimensional matrix `A` that has dimensions $4 \\times 3 \\times 2$, and fill it with random draws from a normal distribution. What happens if you matrix post-multiply this by the $2 \\times 1$ vector `1 2`? From \"common\" linear algebra knowledge, what do you expect the dimension of the new matrix is?"
   ]
  },
  {
   "cell_type": "code",
   "execution_count": 8,
   "metadata": {},
   "outputs": [
    {
     "name": "stdout",
     "output_type": "stream",
     "text": [
      "[[[ 0.30471708 -1.03998411]\n",
      "  [ 0.7504512   0.94056472]\n",
      "  [-1.95103519 -1.30217951]]\n",
      "\n",
      " [[ 0.1278404  -0.31624259]\n",
      "  [-0.01680116 -0.85304393]\n",
      "  [ 0.87939797  0.77779194]]\n",
      "\n",
      " [[ 0.0660307   1.12724121]\n",
      "  [ 0.46750934 -0.85929246]\n",
      "  [ 0.36875078 -0.9588826 ]]\n",
      "\n",
      " [[ 0.8784503  -0.04992591]\n",
      "  [-0.18486236 -0.68092954]\n",
      "  [ 1.22254134 -0.15452948]]]\n",
      "(4, 3, 2)\n",
      "[[[-1.77525113]\n",
      "  [ 2.63158063]\n",
      "  [-4.5553942 ]]\n",
      "\n",
      " [[-0.50464478]\n",
      "  [-1.72288901]\n",
      "  [ 2.43498185]]\n",
      "\n",
      " [[ 2.32051311]\n",
      "  [-1.25107558]\n",
      "  [-1.54901442]]\n",
      "\n",
      " [[ 0.77859848]\n",
      "  [-1.54672145]\n",
      "  [ 0.91348237]]]\n",
      "(4, 3, 1)\n"
     ]
    }
   ],
   "source": [
    "rng = random.default_rng(seed=42)\n",
    "A = rng.normal(size=(4, 3, 2))\n",
    "print(A)\n",
    "print(A.shape)\n",
    "\n",
    "# matrix post-multiplication by vector [1 2]\n",
    "vec = np.array([1, 2]).reshape((2,1))\n",
    "A_post = A @ vec\n",
    "print(A_post)\n",
    "print(A_post.shape)"
   ]
  },
  {
   "cell_type": "code",
   "execution_count": 9,
   "metadata": {},
   "outputs": [
    {
     "name": "stdout",
     "output_type": "stream",
     "text": [
      "[[-1.77525113  2.63158063 -4.5553942 ]\n",
      " [-0.50464478 -1.72288901  2.43498185]\n",
      " [ 2.32051311 -1.25107558 -1.54901442]\n",
      " [ 0.77859848 -1.54672145  0.91348237]]\n"
     ]
    }
   ],
   "source": [
    "B = A @ [1, 2]\n",
    "print(B)"
   ]
  },
  {
   "cell_type": "code",
   "execution_count": 10,
   "metadata": {},
   "outputs": [
    {
     "name": "stdout",
     "output_type": "stream",
     "text": [
      "[[-1.77525113  2.63158063 -4.5553942 ]\n",
      " [-0.50464478 -1.72288901  2.43498185]\n",
      " [ 2.32051311 -1.25107558 -1.54901442]\n",
      " [ 0.77859848 -1.54672145  0.91348237]]\n",
      "[[ 0.30471708 -1.03998411]\n",
      " [ 0.7504512   0.94056472]\n",
      " [-1.95103519 -1.30217951]\n",
      " [ 0.1278404  -0.31624259]\n",
      " [-0.01680116 -0.85304393]\n",
      " [ 0.87939797  0.77779194]\n",
      " [ 0.0660307   1.12724121]\n",
      " [ 0.46750934 -0.85929246]\n",
      " [ 0.36875078 -0.9588826 ]\n",
      " [ 0.8784503  -0.04992591]\n",
      " [-0.18486236 -0.68092954]\n",
      " [ 1.22254134 -0.15452948]]\n",
      "True\n"
     ]
    }
   ],
   "source": [
    "a = A.reshape(12, 2)\n",
    "b = (a @ [1, 2]).reshape(4, 3)\n",
    "print(b)\n",
    "print(a)\n",
    "print((B==b).all())"
   ]
  },
  {
   "cell_type": "markdown",
   "metadata": {},
   "source": [
    "## 1.c Testing it on the data \n",
    "Next, we want to compute $\\sum_{k=1}^{K}x_{ijk}\\theta_{k}$ using linear algebra. Our  `x` matrix has three dimensions, $N\\times J\\times K$, and $\\theta$ should be $K$ long `(K,)`. "
   ]
  },
  {
   "cell_type": "code",
   "execution_count": 11,
   "metadata": {},
   "outputs": [
    {
     "data": {
      "text/plain": [
       "(4654, 6)"
      ]
     },
     "execution_count": 11,
     "metadata": {},
     "output_type": "execute_result"
    }
   ],
   "source": [
    "theta = 0.0 * np.ones((K,))\n",
    "(x @ theta).shape # should be N by J, which is 4654 respondents by 6 cars to choose from"
   ]
  },
  {
   "cell_type": "markdown",
   "metadata": {},
   "source": [
    "What is the interpretation of the elements of `x @ theta`? "
   ]
  },
  {
   "cell_type": "markdown",
   "metadata": {},
   "source": [
    "# Question 2: Simulating data\n",
    "\n",
    "Finish `sim_data(N,J,theta)` in `clogit_ante.py` and simulate a dataset. It must return `(y,x)`, where `x` has dimensions ($N\\times J\\times K$) and `y` ($N\\times1$).\n",
    "\n",
    "The data generating process should be: \n",
    "$$u_{ij} = \\mathbf{x}_{ij}\\theta + \\varepsilon_{ij},\\quad\\varepsilon_{ij}\\sim\\text{IID Extreme Value Type I},$$\n",
    "\n",
    "where we will draw the regressors as $x_{ijk} \\sim \\mathcal{N}(0,1)$ IID for all $(i,j,k)$. The outcome is then $y_i = \\arg\\max_{j} u_{ij}$. \n",
    "\n",
    "***Hints:*** <br>\n",
    "* Draw `x` as `(N,J,K)` standard normals, \n",
    "* Draw `e` ($\\varepsilon$) using `genextreme.ppf(uni, c=0)` (the inverse CDF), were `uni` should be an `(N,J)` matrix of uniform draws (`c=0` gives us *Type I*, as needed), \n",
    "* To find the argmax over rows, use `np.argmax(axis=1)`. Verify that `y` is `(N,)`. \n"
   ]
  },
  {
   "cell_type": "code",
   "execution_count": 12,
   "metadata": {},
   "outputs": [],
   "source": [
    "N = 1000\n",
    "K = 3\n",
    "J = 4\n",
    "thetaTrue = np.array([1, 2, 3])"
   ]
  },
  {
   "cell_type": "code",
   "execution_count": 13,
   "metadata": {},
   "outputs": [],
   "source": [
    "# Finish the clogit.sim_data function.\n",
    "np.random.seed(1337)\n",
    "y,x = clogit.sim_data(N, thetaTrue, J)"
   ]
  },
  {
   "cell_type": "code",
   "execution_count": 14,
   "metadata": {},
   "outputs": [],
   "source": [
    "assert y.ndim == 1"
   ]
  },
  {
   "cell_type": "markdown",
   "metadata": {},
   "source": [
    "Checked that y is (N,) through variables. It is."
   ]
  },
  {
   "cell_type": "markdown",
   "metadata": {},
   "source": [
    "# Question 3: choice probabilities \n",
    "\n",
    "In `clogit_ante.py` finish the functions \n",
    "* `starting_values(y,x)`: Just return a $K$-vector of zeros *(what probabilities will arise from this, do you think?)*\n",
    "* `util(theta, x)`: The deterministic part of utility, max-rescaled: \n",
    "$$ v_{ij} = \\mathbf{x}_{ij} \\theta - K_i, \\quad K_i = \\max_{j \\in \\{1,...,J\\}}  \\mathbf{x}_{ij} \\theta. $$ \n",
    "Subtracting $K_i$ is called \"max-rescaling\". \n",
    "* `choice_prob(theta, x)`: the $N\\times J$ matrix of choice probabilities, given by \n",
    "$$ \\Pr(y_i = j | \\mathbf{x_i}; \\theta) = \\frac{\\exp(v_{ij})}{\\sum_{h=1}^J \\exp(v_{ih})}. $$ \n",
    "Note that if we add a scalar, $K$, to *all* $i$'s utility indices, the choice probabilities are analytically identical (check the algebra!). \n",
    "\n",
    "***Hints:*** \n",
    "* If `x` has shape `(N,J,K)`, then the matrix product `x @ theta` will return an `(N,J)` matrix. \n",
    "* Use `u.max(axis=1)` on an `(N,J)` matrix `u` to compute the max over the rows. \n",
    "    * Further, use `u.max(axis=1, keepdims=True)` to get an `(N,1)` vector out, rather than an `(N,)` vector. "
   ]
  },
  {
   "cell_type": "code",
   "execution_count": 15,
   "metadata": {},
   "outputs": [],
   "source": [
    "theta0 = clogit.starting_values(y, x)"
   ]
  },
  {
   "cell_type": "code",
   "execution_count": 16,
   "metadata": {},
   "outputs": [
    {
     "data": {
      "text/plain": [
       "(1000, 4)"
      ]
     },
     "execution_count": 16,
     "metadata": {},
     "output_type": "execute_result"
    }
   ],
   "source": [
    "u = clogit.util(theta0, x)\n",
    "(u == 0.0).all()\n",
    "u.shape"
   ]
  },
  {
   "cell_type": "code",
   "execution_count": 17,
   "metadata": {},
   "outputs": [
    {
     "data": {
      "text/plain": [
       "(1000, 4)"
      ]
     },
     "execution_count": 17,
     "metadata": {},
     "output_type": "execute_result"
    }
   ],
   "source": [
    "ccp = clogit.choice_prob(theta0, x)\n",
    "(ccp == 0.25).all()\n",
    "ccp.shape"
   ]
  },
  {
   "cell_type": "markdown",
   "metadata": {},
   "source": [
    "# Question 4: Criterion \n",
    "\n",
    "In `clogit_ante.py` code up the functions \n",
    "* `loglikelihood(theta, y, x)`: loglikelihood contribution: $$ \\ell_i (\\theta) = \\log \\Pr( \\textcolor{red}{y_i} | \\mathbf{x}_i;\\theta) = v_{\\color{red}{y_i}} - \\log \\left[ \\sum_{j=1}^J \\exp(\\mathbf{x}_{ij} \\theta) \\right], $$ \n",
    "where $\\textcolor{red}{y_i} \\in \\{0,...,J-1\\}$ is the *outcome* for individual $i$ (whereas we earlier used $y_i$ to represent the stochastic variable that is the outcome chosen by $i$, in a mildly abusive notation.)\n",
    "* `q(theta, y, x)`: the negative loglikelihood criterion, and the function we will give to `est.estimate()`. \n",
    "\n",
    "***Hint:*** if you have an `(N,J)` matrix, `v`, and an `(N,)` array of numbers in `0,...,J-1`, you can do it two ways: \n",
    "```Python\n",
    "# in a (slow) loop\n",
    "ll = np.empty((N,))\n",
    "for i in range(N): \n",
    "    ll[i] = v[i, y[i]]\n",
    "\n",
    "# or faster\n",
    "ll = v[range(N), y]\n",
    "```"
   ]
  },
  {
   "cell_type": "code",
   "execution_count": 18,
   "metadata": {},
   "outputs": [
    {
     "name": "stdout",
     "output_type": "stream",
     "text": [
      "Optimization terminated successfully.\n",
      "         Current function value: 454.248943\n",
      "         Iterations: 19\n",
      "         Function evaluations: 92\n",
      "         Gradient evaluations: 23\n"
     ]
    },
    {
     "name": "stderr",
     "output_type": "stream",
     "text": [
      "/Users/emmaknippel/Desktop/POLIT 9 SEM/Advanced Microeconometrics/Problem sets/Advanced-MicroEconometrics/Problem set 9/estimation_CL.py:106: RuntimeWarning: invalid value encountered in sqrt\n",
      "  se = np.sqrt(np.diag(cov))\n"
     ]
    }
   ],
   "source": [
    "res = est.estimate(clogit.q, theta0, y, x)"
   ]
  },
  {
   "cell_type": "code",
   "execution_count": null,
   "metadata": {},
   "outputs": [
    {
     "data": {
      "text/html": [
       "<div>\n",
       "<style scoped>\n",
       "    .dataframe tbody tr th:only-of-type {\n",
       "        vertical-align: middle;\n",
       "    }\n",
       "\n",
       "    .dataframe tbody tr th {\n",
       "        vertical-align: top;\n",
       "    }\n",
       "\n",
       "    .dataframe thead th {\n",
       "        text-align: right;\n",
       "    }\n",
       "</style>\n",
       "<table border=\"1\" class=\"dataframe\">\n",
       "  <thead>\n",
       "    <tr style=\"text-align: right;\">\n",
       "      <th></th>\n",
       "      <th>theta</th>\n",
       "      <th>se</th>\n",
       "      <th>t</th>\n",
       "    </tr>\n",
       "    <tr>\n",
       "      <th>theta_true</th>\n",
       "      <th></th>\n",
       "      <th></th>\n",
       "      <th></th>\n",
       "    </tr>\n",
       "  </thead>\n",
       "  <tbody>\n",
       "    <tr>\n",
       "      <th>1</th>\n",
       "      <td>1.132566</td>\n",
       "      <td>NaN</td>\n",
       "      <td>NaN</td>\n",
       "    </tr>\n",
       "    <tr>\n",
       "      <th>2</th>\n",
       "      <td>2.257800</td>\n",
       "      <td>3.560408e+13</td>\n",
       "      <td>6.341408e-14</td>\n",
       "    </tr>\n",
       "    <tr>\n",
       "      <th>3</th>\n",
       "      <td>2.954358</td>\n",
       "      <td>9.426603e+12</td>\n",
       "      <td>3.134064e-13</td>\n",
       "    </tr>\n",
       "  </tbody>\n",
       "</table>\n",
       "</div>"
      ],
      "text/plain": [
       "               theta            se             t\n",
       "theta_true                                      \n",
       "1           1.132566           NaN           NaN\n",
       "2           2.257800  3.560408e+13  6.341408e-14\n",
       "3           2.954358  9.426603e+12  3.134064e-13"
      ]
     },
     "execution_count": 57,
     "metadata": {},
     "output_type": "execute_result"
    }
   ],
   "source": [
    "tab = pd.DataFrame({v:res[v] for v in ['theta', 'se', 't']}, index=thetaTrue)\n",
    "tab.index.name = 'theta_true'\n",
    "tab"
   ]
  },
  {
   "cell_type": "markdown",
   "metadata": {},
   "source": [
    "Expected output:\n",
    "\n",
    "Optimization terminated successfully.\n",
    "         Current function value: 0.454249\n",
    "         Iterations: 14\n",
    "         Function evaluations: 60\n",
    "         Gradient evaluations: 15\n",
    "\n",
    "|   theta_true |   theta |       se |       t |\n",
    "|-------------:|--------:|---------:|--------:|\n",
    "|            1 | 1.13255 | 0.081938 | 13.8221 |\n",
    "|            2 | 2.25778 | 0.125319 | 18.0164 |\n",
    "|            3 | 2.95431 | 0.160174 | 18.4444 |"
   ]
  },
  {
   "cell_type": "markdown",
   "metadata": {},
   "source": [
    "# Question 5: Estimation on real data\n",
    "\n",
    "Estimate the 21 parameters of the model. Check that you are able to\n",
    "    find the same estimates and standard errors as in Brownstone and\n",
    "    Train (1998; p. 121).\n",
    "\n"
   ]
  },
  {
   "cell_type": "code",
   "execution_count": 58,
   "metadata": {},
   "outputs": [],
   "source": [
    "N = dat.person_id.nunique()\n",
    "J = dat.j.nunique()\n",
    "K = len(x_vars)\n",
    "\n",
    "y = dat['y'].values.reshape((N,J))\n",
    "y = y[:, 0] # all J elements are identical along axis=1\n",
    "x = dat[x_vars].values.reshape((N,J,K))"
   ]
  },
  {
   "cell_type": "code",
   "execution_count": 59,
   "metadata": {},
   "outputs": [],
   "source": [
    "bt_res = [-.185 , .350 , -.716 , .261 , -.444 , .935 , .143 , .501 , -.768 , .413 , .820 , .637 , -1.437 , -1.017 , -.799 , -.179 , .198 , .443 , .345 , .313 , .228]"
   ]
  },
  {
   "cell_type": "code",
   "execution_count": 60,
   "metadata": {},
   "outputs": [
    {
     "data": {
      "text/html": [
       "<div>\n",
       "<style scoped>\n",
       "    .dataframe tbody tr th:only-of-type {\n",
       "        vertical-align: middle;\n",
       "    }\n",
       "\n",
       "    .dataframe tbody tr th {\n",
       "        vertical-align: top;\n",
       "    }\n",
       "\n",
       "    .dataframe thead th {\n",
       "        text-align: right;\n",
       "    }\n",
       "</style>\n",
       "<table border=\"1\" class=\"dataframe\">\n",
       "  <thead>\n",
       "    <tr style=\"text-align: right;\">\n",
       "      <th></th>\n",
       "      <th>Estimate (B&amp;T 1998)</th>\n",
       "    </tr>\n",
       "  </thead>\n",
       "  <tbody>\n",
       "    <tr>\n",
       "      <th>Price/ln(income)</th>\n",
       "      <td>-0.185</td>\n",
       "    </tr>\n",
       "    <tr>\n",
       "      <th>Range</th>\n",
       "      <td>0.350</td>\n",
       "    </tr>\n",
       "    <tr>\n",
       "      <th>Acceleration</th>\n",
       "      <td>-0.716</td>\n",
       "    </tr>\n",
       "    <tr>\n",
       "      <th>Top speed</th>\n",
       "      <td>0.261</td>\n",
       "    </tr>\n",
       "    <tr>\n",
       "      <th>Pollution</th>\n",
       "      <td>-0.444</td>\n",
       "    </tr>\n",
       "    <tr>\n",
       "      <th>Size</th>\n",
       "      <td>0.935</td>\n",
       "    </tr>\n",
       "    <tr>\n",
       "      <th>Big enough</th>\n",
       "      <td>0.143</td>\n",
       "    </tr>\n",
       "    <tr>\n",
       "      <th>Luggage space</th>\n",
       "      <td>0.501</td>\n",
       "    </tr>\n",
       "    <tr>\n",
       "      <th>Operating cost</th>\n",
       "      <td>-0.768</td>\n",
       "    </tr>\n",
       "    <tr>\n",
       "      <th>Station availability</th>\n",
       "      <td>0.413</td>\n",
       "    </tr>\n",
       "    <tr>\n",
       "      <th>Sports utility vehicle</th>\n",
       "      <td>0.820</td>\n",
       "    </tr>\n",
       "    <tr>\n",
       "      <th>Sports car</th>\n",
       "      <td>0.637</td>\n",
       "    </tr>\n",
       "    <tr>\n",
       "      <th>Station wagon</th>\n",
       "      <td>-1.437</td>\n",
       "    </tr>\n",
       "    <tr>\n",
       "      <th>Truck</th>\n",
       "      <td>-1.017</td>\n",
       "    </tr>\n",
       "    <tr>\n",
       "      <th>Van</th>\n",
       "      <td>-0.799</td>\n",
       "    </tr>\n",
       "    <tr>\n",
       "      <th>Constant for EV</th>\n",
       "      <td>-0.179</td>\n",
       "    </tr>\n",
       "    <tr>\n",
       "      <th>Commute*EV</th>\n",
       "      <td>0.198</td>\n",
       "    </tr>\n",
       "    <tr>\n",
       "      <th>College*EV</th>\n",
       "      <td>0.443</td>\n",
       "    </tr>\n",
       "    <tr>\n",
       "      <th>Constant for CNG</th>\n",
       "      <td>0.345</td>\n",
       "    </tr>\n",
       "    <tr>\n",
       "      <th>Constant for methanol</th>\n",
       "      <td>0.313</td>\n",
       "    </tr>\n",
       "    <tr>\n",
       "      <th>College*methanol</th>\n",
       "      <td>0.228</td>\n",
       "    </tr>\n",
       "  </tbody>\n",
       "</table>\n",
       "</div>"
      ],
      "text/plain": [
       "                        Estimate (B&T 1998)\n",
       "Price/ln(income)                     -0.185\n",
       "Range                                 0.350\n",
       "Acceleration                         -0.716\n",
       "Top speed                             0.261\n",
       "Pollution                            -0.444\n",
       "Size                                  0.935\n",
       "Big enough                            0.143\n",
       "Luggage space                         0.501\n",
       "Operating cost                       -0.768\n",
       "Station availability                  0.413\n",
       "Sports utility vehicle                0.820\n",
       "Sports car                            0.637\n",
       "Station wagon                        -1.437\n",
       "Truck                                -1.017\n",
       "Van                                  -0.799\n",
       "Constant for EV                      -0.179\n",
       "Commute*EV                            0.198\n",
       "College*EV                            0.443\n",
       "Constant for CNG                      0.345\n",
       "Constant for methanol                 0.313\n",
       "College*methanol                      0.228"
      ]
     },
     "execution_count": 60,
     "metadata": {},
     "output_type": "execute_result"
    }
   ],
   "source": [
    "tab_bt98 = pd.DataFrame(bt_res, index=x_lab, columns=['Estimate (B&T 1998)'])\n",
    "tab_bt98"
   ]
  },
  {
   "cell_type": "code",
   "execution_count": 61,
   "metadata": {},
   "outputs": [],
   "source": [
    "theta0 = np.array(bt_res)\n",
    "theta0 = np.zeros((K,))"
   ]
  },
  {
   "cell_type": "code",
   "execution_count": 62,
   "metadata": {},
   "outputs": [
    {
     "name": "stderr",
     "output_type": "stream",
     "text": [
      "/Users/emmaknippel/anaconda3/lib/python3.11/site-packages/scipy/optimize/_minimize.py:705: OptimizeWarning: Desired error not necessarily achieved due to precision loss.\n",
      "  res = _minimize_bfgs(fun, x0, args, jac, callback, **options)\n"
     ]
    },
    {
     "name": "stdout",
     "output_type": "stream",
     "text": [
      "         Current function value: 7391.830048\n",
      "         Iterations: 31\n",
      "         Function evaluations: 990\n",
      "         Gradient evaluations: 45\n"
     ]
    },
    {
     "ename": "LinAlgError",
     "evalue": "Singular matrix",
     "output_type": "error",
     "traceback": [
      "\u001b[0;31m---------------------------------------------------------------------------\u001b[0m",
      "\u001b[0;31mLinAlgError\u001b[0m                               Traceback (most recent call last)",
      "Cell \u001b[0;32mIn[62], line 1\u001b[0m\n\u001b[0;32m----> 1\u001b[0m res \u001b[38;5;241m=\u001b[39m est\u001b[38;5;241m.\u001b[39mestimate(clogit\u001b[38;5;241m.\u001b[39mq, theta0, y, x)\n",
      "File \u001b[0;32m~/Desktop/POLIT 9 SEM/Advanced Microeconometrics/Problem sets/Advanced-MicroEconometrics/Problem set 9/estimation_CL.py:46\u001b[0m, in \u001b[0;36mestimate\u001b[0;34m(q, theta0, y, x, cov_type, options, **kwargs)\u001b[0m\n\u001b[1;32m     43\u001b[0m \u001b[38;5;66;03m# call optimizer\u001b[39;00m\n\u001b[1;32m     44\u001b[0m result \u001b[38;5;241m=\u001b[39m optimize\u001b[38;5;241m.\u001b[39mminimize(Q, theta0, options\u001b[38;5;241m=\u001b[39moptions, \u001b[38;5;241m*\u001b[39m\u001b[38;5;241m*\u001b[39mkwargs)\n\u001b[0;32m---> 46\u001b[0m cov, se \u001b[38;5;241m=\u001b[39m variance(q, y, x, result, cov_type)   \n\u001b[1;32m     48\u001b[0m \u001b[38;5;66;03m# collect output in a dict \u001b[39;00m\n\u001b[1;32m     49\u001b[0m res \u001b[38;5;241m=\u001b[39m {\n\u001b[1;32m     50\u001b[0m     \u001b[38;5;124m'\u001b[39m\u001b[38;5;124mtheta\u001b[39m\u001b[38;5;124m'\u001b[39m: result\u001b[38;5;241m.\u001b[39mx,\n\u001b[1;32m     51\u001b[0m     \u001b[38;5;124m'\u001b[39m\u001b[38;5;124mse\u001b[39m\u001b[38;5;124m'\u001b[39m:       se,\n\u001b[0;32m   (...)\u001b[0m\n\u001b[1;32m     57\u001b[0m     \u001b[38;5;124m'\u001b[39m\u001b[38;5;124mfun\u001b[39m\u001b[38;5;124m'\u001b[39m:      result\u001b[38;5;241m.\u001b[39mfun \u001b[38;5;66;03m# function value at termination \u001b[39;00m\n\u001b[1;32m     58\u001b[0m }\n",
      "File \u001b[0;32m~/Desktop/POLIT 9 SEM/Advanced Microeconometrics/Problem sets/Advanced-MicroEconometrics/Problem set 9/estimation_CL.py:100\u001b[0m, in \u001b[0;36mvariance\u001b[0;34m(q, y, x, result, cov_type)\u001b[0m\n\u001b[1;32m     98\u001b[0m     cov \u001b[38;5;241m=\u001b[39m \u001b[38;5;241m1\u001b[39m\u001b[38;5;241m/\u001b[39mN \u001b[38;5;241m*\u001b[39m A_inv\n\u001b[1;32m     99\u001b[0m \u001b[38;5;28;01melif\u001b[39;00m cov_type \u001b[38;5;241m==\u001b[39m \u001b[38;5;124m'\u001b[39m\u001b[38;5;124mOuter Product\u001b[39m\u001b[38;5;124m'\u001b[39m:\n\u001b[0;32m--> 100\u001b[0m     cov \u001b[38;5;241m=\u001b[39m \u001b[38;5;241m1\u001b[39m\u001b[38;5;241m/\u001b[39mN \u001b[38;5;241m*\u001b[39m la\u001b[38;5;241m.\u001b[39minv(B)\n\u001b[1;32m    101\u001b[0m \u001b[38;5;28;01melif\u001b[39;00m cov_type \u001b[38;5;241m==\u001b[39m \u001b[38;5;124m'\u001b[39m\u001b[38;5;124mSandwich\u001b[39m\u001b[38;5;124m'\u001b[39m:\n\u001b[1;32m    102\u001b[0m     A_inv \u001b[38;5;241m=\u001b[39m H_inv \u001b[38;5;66;03m# result.hess_inv\u001b[39;00m\n",
      "File \u001b[0;32m~/anaconda3/lib/python3.11/site-packages/numpy/linalg/linalg.py:561\u001b[0m, in \u001b[0;36minv\u001b[0;34m(a)\u001b[0m\n\u001b[1;32m    559\u001b[0m signature \u001b[38;5;241m=\u001b[39m \u001b[38;5;124m'\u001b[39m\u001b[38;5;124mD->D\u001b[39m\u001b[38;5;124m'\u001b[39m \u001b[38;5;28;01mif\u001b[39;00m isComplexType(t) \u001b[38;5;28;01melse\u001b[39;00m \u001b[38;5;124m'\u001b[39m\u001b[38;5;124md->d\u001b[39m\u001b[38;5;124m'\u001b[39m\n\u001b[1;32m    560\u001b[0m extobj \u001b[38;5;241m=\u001b[39m get_linalg_error_extobj(_raise_linalgerror_singular)\n\u001b[0;32m--> 561\u001b[0m ainv \u001b[38;5;241m=\u001b[39m _umath_linalg\u001b[38;5;241m.\u001b[39minv(a, signature\u001b[38;5;241m=\u001b[39msignature, extobj\u001b[38;5;241m=\u001b[39mextobj)\n\u001b[1;32m    562\u001b[0m \u001b[38;5;28;01mreturn\u001b[39;00m wrap(ainv\u001b[38;5;241m.\u001b[39mastype(result_t, copy\u001b[38;5;241m=\u001b[39m\u001b[38;5;28;01mFalse\u001b[39;00m))\n",
      "File \u001b[0;32m~/anaconda3/lib/python3.11/site-packages/numpy/linalg/linalg.py:112\u001b[0m, in \u001b[0;36m_raise_linalgerror_singular\u001b[0;34m(err, flag)\u001b[0m\n\u001b[1;32m    111\u001b[0m \u001b[38;5;28;01mdef\u001b[39;00m \u001b[38;5;21m_raise_linalgerror_singular\u001b[39m(err, flag):\n\u001b[0;32m--> 112\u001b[0m     \u001b[38;5;28;01mraise\u001b[39;00m LinAlgError(\u001b[38;5;124m\"\u001b[39m\u001b[38;5;124mSingular matrix\u001b[39m\u001b[38;5;124m\"\u001b[39m)\n",
      "\u001b[0;31mLinAlgError\u001b[0m: Singular matrix"
     ]
    }
   ],
   "source": [
    "res = est.estimate(clogit.q, theta0, y, x)"
   ]
  },
  {
   "cell_type": "code",
   "execution_count": null,
   "metadata": {},
   "outputs": [
    {
     "data": {
      "text/html": [
       "<div>\n",
       "<style scoped>\n",
       "    .dataframe tbody tr th:only-of-type {\n",
       "        vertical-align: middle;\n",
       "    }\n",
       "\n",
       "    .dataframe tbody tr th {\n",
       "        vertical-align: top;\n",
       "    }\n",
       "\n",
       "    .dataframe thead th {\n",
       "        text-align: right;\n",
       "    }\n",
       "</style>\n",
       "<table border=\"1\" class=\"dataframe\">\n",
       "  <thead>\n",
       "    <tr style=\"text-align: right;\">\n",
       "      <th></th>\n",
       "      <th>theta</th>\n",
       "      <th>se</th>\n",
       "      <th>t</th>\n",
       "      <th>B&amp;T 1998</th>\n",
       "      <th>diff</th>\n",
       "    </tr>\n",
       "  </thead>\n",
       "  <tbody>\n",
       "    <tr>\n",
       "      <th>Price/ln(income)</th>\n",
       "      <td>-0.185425</td>\n",
       "      <td>0.027200</td>\n",
       "      <td>-6.817203</td>\n",
       "      <td>-0.185</td>\n",
       "      <td>-0.000425</td>\n",
       "    </tr>\n",
       "    <tr>\n",
       "      <th>Range</th>\n",
       "      <td>0.350096</td>\n",
       "      <td>0.026933</td>\n",
       "      <td>12.998893</td>\n",
       "      <td>0.350</td>\n",
       "      <td>0.000096</td>\n",
       "    </tr>\n",
       "    <tr>\n",
       "      <th>Acceleration</th>\n",
       "      <td>-0.716187</td>\n",
       "      <td>0.110534</td>\n",
       "      <td>-6.479356</td>\n",
       "      <td>-0.716</td>\n",
       "      <td>-0.000187</td>\n",
       "    </tr>\n",
       "    <tr>\n",
       "      <th>Top speed</th>\n",
       "      <td>0.261102</td>\n",
       "      <td>0.079773</td>\n",
       "      <td>3.273066</td>\n",
       "      <td>0.261</td>\n",
       "      <td>0.000102</td>\n",
       "    </tr>\n",
       "    <tr>\n",
       "      <th>Pollution</th>\n",
       "      <td>-0.444101</td>\n",
       "      <td>0.100115</td>\n",
       "      <td>-4.435920</td>\n",
       "      <td>-0.444</td>\n",
       "      <td>-0.000101</td>\n",
       "    </tr>\n",
       "    <tr>\n",
       "      <th>Size</th>\n",
       "      <td>0.934342</td>\n",
       "      <td>0.311053</td>\n",
       "      <td>3.003805</td>\n",
       "      <td>0.935</td>\n",
       "      <td>-0.000658</td>\n",
       "    </tr>\n",
       "    <tr>\n",
       "      <th>Big enough</th>\n",
       "      <td>0.143349</td>\n",
       "      <td>0.075909</td>\n",
       "      <td>1.888426</td>\n",
       "      <td>0.143</td>\n",
       "      <td>0.000349</td>\n",
       "    </tr>\n",
       "    <tr>\n",
       "      <th>Luggage space</th>\n",
       "      <td>0.502487</td>\n",
       "      <td>0.188359</td>\n",
       "      <td>2.667712</td>\n",
       "      <td>0.501</td>\n",
       "      <td>0.001487</td>\n",
       "    </tr>\n",
       "    <tr>\n",
       "      <th>Operating cost</th>\n",
       "      <td>-0.767962</td>\n",
       "      <td>0.073376</td>\n",
       "      <td>-10.466130</td>\n",
       "      <td>-0.768</td>\n",
       "      <td>0.000038</td>\n",
       "    </tr>\n",
       "    <tr>\n",
       "      <th>Station availability</th>\n",
       "      <td>0.413061</td>\n",
       "      <td>0.096546</td>\n",
       "      <td>4.278408</td>\n",
       "      <td>0.413</td>\n",
       "      <td>0.000061</td>\n",
       "    </tr>\n",
       "    <tr>\n",
       "      <th>Sports utility vehicle</th>\n",
       "      <td>0.819469</td>\n",
       "      <td>0.144276</td>\n",
       "      <td>5.679890</td>\n",
       "      <td>0.820</td>\n",
       "      <td>-0.000531</td>\n",
       "    </tr>\n",
       "    <tr>\n",
       "      <th>Sports car</th>\n",
       "      <td>0.636109</td>\n",
       "      <td>0.156366</td>\n",
       "      <td>4.068090</td>\n",
       "      <td>0.637</td>\n",
       "      <td>-0.000891</td>\n",
       "    </tr>\n",
       "    <tr>\n",
       "      <th>Station wagon</th>\n",
       "      <td>-1.436670</td>\n",
       "      <td>0.065417</td>\n",
       "      <td>-21.961599</td>\n",
       "      <td>-1.437</td>\n",
       "      <td>0.000330</td>\n",
       "    </tr>\n",
       "    <tr>\n",
       "      <th>Truck</th>\n",
       "      <td>-1.016814</td>\n",
       "      <td>0.054530</td>\n",
       "      <td>-18.646858</td>\n",
       "      <td>-1.017</td>\n",
       "      <td>0.000186</td>\n",
       "    </tr>\n",
       "    <tr>\n",
       "      <th>Van</th>\n",
       "      <td>-0.798940</td>\n",
       "      <td>0.053180</td>\n",
       "      <td>-15.023430</td>\n",
       "      <td>-0.799</td>\n",
       "      <td>0.000060</td>\n",
       "    </tr>\n",
       "    <tr>\n",
       "      <th>Constant for EV</th>\n",
       "      <td>-0.179027</td>\n",
       "      <td>0.168621</td>\n",
       "      <td>-1.061713</td>\n",
       "      <td>-0.179</td>\n",
       "      <td>-0.000027</td>\n",
       "    </tr>\n",
       "    <tr>\n",
       "      <th>Commute*EV</th>\n",
       "      <td>0.198374</td>\n",
       "      <td>0.082343</td>\n",
       "      <td>2.409116</td>\n",
       "      <td>0.198</td>\n",
       "      <td>0.000374</td>\n",
       "    </tr>\n",
       "    <tr>\n",
       "      <th>College*EV</th>\n",
       "      <td>0.442935</td>\n",
       "      <td>0.108249</td>\n",
       "      <td>4.091836</td>\n",
       "      <td>0.443</td>\n",
       "      <td>-0.000065</td>\n",
       "    </tr>\n",
       "    <tr>\n",
       "      <th>Constant for CNG</th>\n",
       "      <td>0.345060</td>\n",
       "      <td>0.091069</td>\n",
       "      <td>3.789006</td>\n",
       "      <td>0.345</td>\n",
       "      <td>0.000060</td>\n",
       "    </tr>\n",
       "    <tr>\n",
       "      <th>Constant for methanol</th>\n",
       "      <td>0.313120</td>\n",
       "      <td>0.103205</td>\n",
       "      <td>3.033966</td>\n",
       "      <td>0.313</td>\n",
       "      <td>0.000120</td>\n",
       "    </tr>\n",
       "    <tr>\n",
       "      <th>College*methanol</th>\n",
       "      <td>0.228549</td>\n",
       "      <td>0.088872</td>\n",
       "      <td>2.571672</td>\n",
       "      <td>0.228</td>\n",
       "      <td>0.000549</td>\n",
       "    </tr>\n",
       "  </tbody>\n",
       "</table>\n",
       "</div>"
      ],
      "text/plain": [
       "                           theta        se          t  B&T 1998      diff\n",
       "Price/ln(income)       -0.185425  0.027200  -6.817203    -0.185 -0.000425\n",
       "Range                   0.350096  0.026933  12.998893     0.350  0.000096\n",
       "Acceleration           -0.716187  0.110534  -6.479356    -0.716 -0.000187\n",
       "Top speed               0.261102  0.079773   3.273066     0.261  0.000102\n",
       "Pollution              -0.444101  0.100115  -4.435920    -0.444 -0.000101\n",
       "Size                    0.934342  0.311053   3.003805     0.935 -0.000658\n",
       "Big enough              0.143349  0.075909   1.888426     0.143  0.000349\n",
       "Luggage space           0.502487  0.188359   2.667712     0.501  0.001487\n",
       "Operating cost         -0.767962  0.073376 -10.466130    -0.768  0.000038\n",
       "Station availability    0.413061  0.096546   4.278408     0.413  0.000061\n",
       "Sports utility vehicle  0.819469  0.144276   5.679890     0.820 -0.000531\n",
       "Sports car              0.636109  0.156366   4.068090     0.637 -0.000891\n",
       "Station wagon          -1.436670  0.065417 -21.961599    -1.437  0.000330\n",
       "Truck                  -1.016814  0.054530 -18.646858    -1.017  0.000186\n",
       "Van                    -0.798940  0.053180 -15.023430    -0.799  0.000060\n",
       "Constant for EV        -0.179027  0.168621  -1.061713    -0.179 -0.000027\n",
       "Commute*EV              0.198374  0.082343   2.409116     0.198  0.000374\n",
       "College*EV              0.442935  0.108249   4.091836     0.443 -0.000065\n",
       "Constant for CNG        0.345060  0.091069   3.789006     0.345  0.000060\n",
       "Constant for methanol   0.313120  0.103205   3.033966     0.313  0.000120\n",
       "College*methanol        0.228549  0.088872   2.571672     0.228  0.000549"
      ]
     },
     "execution_count": 25,
     "metadata": {},
     "output_type": "execute_result"
    }
   ],
   "source": [
    "tab = pd.DataFrame({v:res[v] for v in ['theta', 'se', 't']}, index=x_lab)\n",
    "tab['B&T 1998'] = tab_bt98\n",
    "tab['diff'] = tab['theta'] - tab['B&T 1998']\n",
    "tab"
   ]
  },
  {
   "cell_type": "code",
   "execution_count": 63,
   "metadata": {},
   "outputs": [
    {
     "ename": "ValueError",
     "evalue": "operands could not be broadcast together with shapes (3,) (21,) ",
     "output_type": "error",
     "traceback": [
      "\u001b[0;31m---------------------------------------------------------------------------\u001b[0m",
      "\u001b[0;31mValueError\u001b[0m                                Traceback (most recent call last)",
      "Cell \u001b[0;32mIn[63], line 2\u001b[0m\n\u001b[1;32m      1\u001b[0m \u001b[38;5;66;03m# Check that results we get is close to the ones in paper.\u001b[39;00m\n\u001b[0;32m----> 2\u001b[0m I_isclose \u001b[38;5;241m=\u001b[39m np\u001b[38;5;241m.\u001b[39misclose(res[\u001b[38;5;124m'\u001b[39m\u001b[38;5;124mtheta\u001b[39m\u001b[38;5;124m'\u001b[39m], bt_res, rtol\u001b[38;5;241m=\u001b[39m\u001b[38;5;241m0.01\u001b[39m)\n\u001b[1;32m      3\u001b[0m \u001b[38;5;28;01mif\u001b[39;00m I_isclose\u001b[38;5;241m.\u001b[39mall(): \n\u001b[1;32m      4\u001b[0m     \u001b[38;5;28mprint\u001b[39m(\u001b[38;5;124mf\u001b[39m\u001b[38;5;124m'\u001b[39m\u001b[38;5;124mAll parameters estimated to be within 1% of B&T (1998)\u001b[39m\u001b[38;5;124m'\u001b[39m)\n",
      "File \u001b[0;32m~/anaconda3/lib/python3.11/site-packages/numpy/core/numeric.py:2351\u001b[0m, in \u001b[0;36misclose\u001b[0;34m(a, b, rtol, atol, equal_nan)\u001b[0m\n\u001b[1;32m   2349\u001b[0m yfin \u001b[38;5;241m=\u001b[39m isfinite(y)\n\u001b[1;32m   2350\u001b[0m \u001b[38;5;28;01mif\u001b[39;00m \u001b[38;5;28mall\u001b[39m(xfin) \u001b[38;5;129;01mand\u001b[39;00m \u001b[38;5;28mall\u001b[39m(yfin):\n\u001b[0;32m-> 2351\u001b[0m     \u001b[38;5;28;01mreturn\u001b[39;00m within_tol(x, y, atol, rtol)\n\u001b[1;32m   2352\u001b[0m \u001b[38;5;28;01melse\u001b[39;00m:\n\u001b[1;32m   2353\u001b[0m     finite \u001b[38;5;241m=\u001b[39m xfin \u001b[38;5;241m&\u001b[39m yfin\n",
      "File \u001b[0;32m~/anaconda3/lib/python3.11/site-packages/numpy/core/numeric.py:2332\u001b[0m, in \u001b[0;36misclose.<locals>.within_tol\u001b[0;34m(x, y, atol, rtol)\u001b[0m\n\u001b[1;32m   2330\u001b[0m \u001b[38;5;28;01mdef\u001b[39;00m \u001b[38;5;21mwithin_tol\u001b[39m(x, y, atol, rtol):\n\u001b[1;32m   2331\u001b[0m     \u001b[38;5;28;01mwith\u001b[39;00m errstate(invalid\u001b[38;5;241m=\u001b[39m\u001b[38;5;124m'\u001b[39m\u001b[38;5;124mignore\u001b[39m\u001b[38;5;124m'\u001b[39m), _no_nep50_warning():\n\u001b[0;32m-> 2332\u001b[0m         \u001b[38;5;28;01mreturn\u001b[39;00m less_equal(\u001b[38;5;28mabs\u001b[39m(x\u001b[38;5;241m-\u001b[39my), atol \u001b[38;5;241m+\u001b[39m rtol \u001b[38;5;241m*\u001b[39m \u001b[38;5;28mabs\u001b[39m(y))\n",
      "\u001b[0;31mValueError\u001b[0m: operands could not be broadcast together with shapes (3,) (21,) "
     ]
    }
   ],
   "source": [
    "# Check that results we get is close to the ones in paper.\n",
    "I_isclose = np.isclose(res['theta'], bt_res, rtol=0.01)\n",
    "if I_isclose.all(): \n",
    "    print(f'All parameters estimated to be within 1% of B&T (1998)')\n",
    "else: \n",
    "    print(f'Some parameters are not matching:\\n')\n",
    "    print(pd.DataFrame({'estimate':res['b_hat'], 'B&T':bt_res, 'close_to_saved':I_isclose}, index=x_lab))"
   ]
  },
  {
   "cell_type": "markdown",
   "metadata": {},
   "source": [
    "# Question 6: Price elasticities\n",
    "\n",
    "> Compute the own-price and cross-price elasticities for all observations $i$ and cars $j$.\n",
    "\n",
    "As with standard binary probit or logit, the parameter estimates are not\n",
    "interesting in and of themselves. Instead, we want to compute\n",
    "*elasticities* that we can interpret and answer interesting questions\n",
    "with. To do this, recall that an elasticity takes the form\n",
    "\n",
    "$$\\text{elasticity}=\\frac{\\mathrm{dy}}{y}\\frac{x}{\\mathrm{d}x}.$$ \n",
    "This\n",
    "formula is useful for computing elasticities numerically: we can\n",
    "increase $x$ by some small amount, say $10^{-5}$, and measure the change\n",
    "in $y$. The elasticity is then the relative change in $y$ divided by the\n",
    "relative change in $x$: $\\frac{\\Delta y/y}{\\Delta x/x}$, or equivalently\n",
    "\n",
    "$$\\text{numerical elasticity}=\\frac{\\text{pct. change in }y}{\\text{pct. change in }x}. \\tag{1}$$\n",
    "\n",
    "\n",
    "***Hint:*** One suggested approach would be: \n",
    "1. Evaluate conditional choice probabilities (CCPs) in the baseline setting, `ccp0`, \n",
    "2. for each car `j = 0, ..., 5` do: \n",
    "    1. make a copy of the dataset, `x2`, \n",
    "    2. increase the price  (`k=0`) of car `j` by `h` percent in `x2`, \n",
    "    3. evaluate CCPs for `x2`, call it `ccp2`\n",
    "    4. compute the percent change in CCPs, \n",
    "    5. compute the own-price elasticity directly using (1), and save the average elasticity among all cars other than `j` as the cross-price elasticity (averaged among other cars). "
   ]
  },
  {
   "cell_type": "code",
   "execution_count": null,
   "metadata": {},
   "outputs": [],
   "source": [
    "thetahat = res['theta']"
   ]
  },
  {
   "cell_type": "code",
   "execution_count": null,
   "metadata": {},
   "outputs": [],
   "source": [
    "# Original choice probabilites\n",
    "ccp1 = clogit.choice_prob(thetahat, x)"
   ]
  },
  {
   "cell_type": "code",
   "execution_count": null,
   "metadata": {},
   "outputs": [],
   "source": [
    "E_own   = np.zeros((N, J))\n",
    "E_cross = np.zeros((N, J))\n",
    "dpdx    = np.zeros((N, J))\n",
    "k_price = 0 \n",
    "\n",
    "for j in range(J):\n",
    "    # A. copy \n",
    "    x2 = x.copy()\n",
    "    \n",
    "    # B. increase price just for car j \n",
    "    rel_change_x = 1e-3\n",
    "    x2[:, j, k_price] = None # Fill in \n",
    "\n",
    "    # C. evaluate CCPs\n",
    "    ccp2 = None # Fill in \n",
    "    \n",
    "    # D. percentage change in CCPs \n",
    "    rel_change_y = None # Fill in \n",
    "    \n",
    "    # E. elasticities \n",
    "    elasticity = None # Fill in \n",
    "    \n",
    "    E_own[:, j] = None # Fill in \n",
    "    \n",
    "    k_not_j = [k for k in range(J) if k != j] # indices for all other cars than j \n",
    "    E_cross[:, j] = None # Fill in: Avg. among the cars k_not_j"
   ]
  },
  {
   "cell_type": "code",
   "execution_count": null,
   "metadata": {},
   "outputs": [],
   "source": [
    "print(f'Own-price elasticity:  {np.mean(E_own).round(4)}')\n",
    "print(f'Cross-price elasticity: {np.mean(E_cross).round(4)}')"
   ]
  },
  {
   "cell_type": "markdown",
   "metadata": {},
   "source": [
    "Expected output: \\\\\n",
    "Own-price elasticity:  -0.652 \\\\\n",
    "Cross-price elasticity: 0.1278"
   ]
  },
  {
   "cell_type": "markdown",
   "metadata": {},
   "source": [
    "### Are Electric Vehicles (EVs) different? \n",
    "\n",
    "A lot of policy debate these days is about (EVs). Compare whether demand for EVs is more or less price-sensitive. "
   ]
  },
  {
   "cell_type": "code",
   "execution_count": null,
   "metadata": {},
   "outputs": [],
   "source": [
    "i_ev = 15\n",
    "x_vars[i_ev] # check that we found the right one "
   ]
  },
  {
   "cell_type": "code",
   "execution_count": null,
   "metadata": {},
   "outputs": [],
   "source": [
    "# Create two indexed, from where idx1 is for electric cars\n",
    "# and idx0 is for non-electric cars.\n",
    "idx1 = x[:, :, i_ev]==1\n",
    "idx0 = x[:, :, i_ev]==0 \n",
    "print(f'Elasticity, EVs:   {np.mean(E_own[idx1]).round(4)}')\n",
    "print(f'Elasticity, other: {np.mean(E_own[idx0]).round(4)}')"
   ]
  },
  {
   "cell_type": "markdown",
   "metadata": {},
   "source": [
    "Elasticity, EVs:   -0.7149 \\\\\n",
    "other: -0.6311"
   ]
  }
 ],
 "metadata": {
  "kernelspec": {
   "display_name": "Python 3.9.13 ('base')",
   "language": "python",
   "name": "python3"
  },
  "language_info": {
   "codemirror_mode": {
    "name": "ipython",
    "version": 3
   },
   "file_extension": ".py",
   "mimetype": "text/x-python",
   "name": "python",
   "nbconvert_exporter": "python",
   "pygments_lexer": "ipython3",
   "version": "3.11.7"
  },
  "vscode": {
   "interpreter": {
    "hash": "8d7bebdef2791ee28f595965525bbc59ca90ce4d557db71103a1b7c8e80c2ee7"
   }
  }
 },
 "nbformat": 4,
 "nbformat_minor": 4
}
